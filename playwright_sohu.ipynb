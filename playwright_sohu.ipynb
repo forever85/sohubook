{
 "cells": [
  {
   "cell_type": "code",
   "execution_count": 1,
   "id": "6d122fc0",
   "metadata": {},
   "outputs": [],
   "source": [
    "from bs4 import BeautifulSoup\n",
    "from playwright.sync_api import Playwright, sync_playwright, expect"
   ]
  },
  {
   "cell_type": "code",
   "execution_count": 2,
   "id": "71cf0314",
   "metadata": {},
   "outputs": [
    {
     "ename": "Error",
     "evalue": "It looks like you are using Playwright Sync API inside the asyncio loop.\nPlease use the Async API instead.",
     "output_type": "error",
     "traceback": [
      "\u001b[1;31m---------------------------------------------------------------------------\u001b[0m",
      "\u001b[1;31mError\u001b[0m                                     Traceback (most recent call last)",
      "Cell \u001b[1;32mIn[2], line 21\u001b[0m\n\u001b[0;32m     17\u001b[0m     context\u001b[38;5;241m.\u001b[39mclose()\n\u001b[0;32m     18\u001b[0m     browser\u001b[38;5;241m.\u001b[39mclose()\n\u001b[1;32m---> 21\u001b[0m \u001b[38;5;28;01mwith\u001b[39;00m sync_playwright() \u001b[38;5;28;01mas\u001b[39;00m playwright:\n\u001b[0;32m     22\u001b[0m     run(playwright)\n",
      "File \u001b[1;32mC:\\anaconda3\\lib\\site-packages\\playwright\\sync_api\\_context_manager.py:44\u001b[0m, in \u001b[0;36mPlaywrightContextManager.__enter__\u001b[1;34m(self)\u001b[0m\n\u001b[0;32m     42\u001b[0m             \u001b[38;5;28mself\u001b[39m\u001b[38;5;241m.\u001b[39m_own_loop \u001b[38;5;241m=\u001b[39m \u001b[38;5;28;01mTrue\u001b[39;00m\n\u001b[0;32m     43\u001b[0m         \u001b[38;5;28;01mif\u001b[39;00m \u001b[38;5;28mself\u001b[39m\u001b[38;5;241m.\u001b[39m_loop\u001b[38;5;241m.\u001b[39mis_running():\n\u001b[1;32m---> 44\u001b[0m             \u001b[38;5;28;01mraise\u001b[39;00m Error(\n\u001b[0;32m     45\u001b[0m                 \u001b[38;5;124;03m\"\"\"It looks like you are using Playwright Sync API inside the asyncio loop.\u001b[39;00m\n\u001b[0;32m     46\u001b[0m \u001b[38;5;124;03mPlease use the Async API instead.\"\"\"\u001b[39;00m\n\u001b[0;32m     47\u001b[0m             )\n\u001b[0;32m     49\u001b[0m         \u001b[38;5;66;03m# In Python 3.7, asyncio.Process.wait() hangs because it does not use ThreadedChildWatcher\u001b[39;00m\n\u001b[0;32m     50\u001b[0m         \u001b[38;5;66;03m# which is used in Python 3.8+. This is unix specific and also takes care about\u001b[39;00m\n\u001b[0;32m     51\u001b[0m         \u001b[38;5;66;03m# cleaning up zombie processes. See https://bugs.python.org/issue35621\u001b[39;00m\n\u001b[0;32m     52\u001b[0m         \u001b[38;5;28;01mif\u001b[39;00m (\n\u001b[0;32m     53\u001b[0m             sys\u001b[38;5;241m.\u001b[39mversion_info[\u001b[38;5;241m0\u001b[39m] \u001b[38;5;241m==\u001b[39m \u001b[38;5;241m3\u001b[39m\n\u001b[0;32m     54\u001b[0m             \u001b[38;5;129;01mand\u001b[39;00m sys\u001b[38;5;241m.\u001b[39mversion_info[\u001b[38;5;241m1\u001b[39m] \u001b[38;5;241m==\u001b[39m \u001b[38;5;241m7\u001b[39m\n\u001b[0;32m     55\u001b[0m             \u001b[38;5;129;01mand\u001b[39;00m sys\u001b[38;5;241m.\u001b[39mplatform \u001b[38;5;241m!=\u001b[39m \u001b[38;5;124m\"\u001b[39m\u001b[38;5;124mwin32\u001b[39m\u001b[38;5;124m\"\u001b[39m\n\u001b[0;32m     56\u001b[0m             \u001b[38;5;129;01mand\u001b[39;00m \u001b[38;5;28misinstance\u001b[39m(asyncio\u001b[38;5;241m.\u001b[39mget_child_watcher(), asyncio\u001b[38;5;241m.\u001b[39mSafeChildWatcher)\n\u001b[0;32m     57\u001b[0m         ):\n",
      "\u001b[1;31mError\u001b[0m: It looks like you are using Playwright Sync API inside the asyncio loop.\nPlease use the Async API instead."
     ]
    }
   ],
   "source": [
    "def run(playwright: Playwright) -> None:\n",
    "    browser = playwright.chromium.launch(headless=False)\n",
    "    context = browser.new_context()\n",
    "    page = context.new_page()\n",
    "    page.goto(\"https://www.sohu.com/a/725639909_121463770/?pvid=000115_3w_a\")\n",
    "    page.wait_for_load_state('load')\n",
    "    res = page.content()\n",
    "    beau = BeautfulSoup(res.text,'lxml')\n",
    "    images = beau.select(\".ql-align-center img\")\n",
    "    for img in images:\n",
    "        #img = img.query_selector(\"img\")\n",
    "        print(img)\n",
    "    \n",
    "    page.close()\n",
    "\n",
    "    # ---------------------\n",
    "    context.close()\n",
    "    browser.close()\n",
    "\n",
    "\n",
    "with sync_playwright() as playwright:\n",
    "    run(playwright)\n"
   ]
  }
 ],
 "metadata": {
  "kernelspec": {
   "display_name": "Python 3 (ipykernel)",
   "language": "python",
   "name": "python3"
  },
  "language_info": {
   "codemirror_mode": {
    "name": "ipython",
    "version": 3
   },
   "file_extension": ".py",
   "mimetype": "text/x-python",
   "name": "python",
   "nbconvert_exporter": "python",
   "pygments_lexer": "ipython3",
   "version": "3.9.15"
  }
 },
 "nbformat": 4,
 "nbformat_minor": 5
}
