{
 "cells": [
  {
   "cell_type": "code",
   "execution_count": 1,
   "metadata": {},
   "outputs": [],
   "source": [
    "import requests"
   ]
  },
  {
   "cell_type": "code",
   "execution_count": 2,
   "metadata": {},
   "outputs": [],
   "source": [
    "from bs4 import  BeautifulSoup"
   ]
  },
  {
   "cell_type": "code",
   "execution_count": 3,
   "metadata": {},
   "outputs": [],
   "source": [
    "he = {'user-agent': 'Mozilla/5.0 (Windows NT 10.0; Win64; x64) AppleWebKit/537.36 (KHTML, like Gecko) Chrome/91.0.4472.124 Safari/537.36',\n",
    "'cookie': 'ad_t_3=2; ad_t_2=2; ad_t_side_fix_2=1; BAIDU_SSP_lcr=https://www.sogou.com/link?url=hedJjaC291Ok-E9WTygIKrVvNc_sKic_2OAEKN1YjfVT8zcvgF5sqeoX3agD4ZY6; SUV=2003142113279604; gidinf=x099980109ee116979dc14879000d203d8554eec122f; reqtype=pc; IPLOC=CN6101; cityIpLocation=1.80.232.106; ad_t_4=3; ad_t_3=2; ad_t_2=1; ad_t_5=5; ad_t_6=1; _muid_=1642595316917443; MTV_SRC=10010001; t=1642596951331; beans_new_turn=%7B%22sohu-index%22%3A23%2C%22learning-article%22%3A32%7D',\n",
    "'referer':'https://www.sohu.com/a/375962174_120155752?spm=smpc.author.fd-d-374161.39.16425963458775aJvSpA'}"
   ]
  },
  {
   "cell_type": "code",
   "execution_count": 4,
   "metadata": {},
   "outputs": [],
   "source": [
    "url = 'https://www.sohu.com/a/445353566_737197'"
   ]
  },
  {
   "cell_type": "code",
   "execution_count": 5,
   "metadata": {},
   "outputs": [],
   "source": [
    "re = requests.get(url,headers = he)"
   ]
  },
  {
   "cell_type": "code",
   "execution_count": 11,
   "metadata": {},
   "outputs": [
    {
     "data": {
      "text/plain": [
       "'<!DOCTYPE html>\\n<html data-log-pv=\\'{\"mpc\":25}\\'>\\n    <head>\\n        <script>\\n            if (window && window.performance && typeof window.performance.now === \\'function\\') {\\n                !window.MptcfePerf ? window.MptcfePerf = { headst: +new Date() } : window.MptcfePerf.headst = +new Date()\\n            }\\n        </script>\\n        <title>北师大版五年级数学下册电子课本_整理</title>\\n        <meta http-equiv=\"Cache-Control\" content=\"no-transform\" /> \\n<meta http-equiv=\"Cache-Control\" content=\"no-siteapp\" /> \\n<meta name=\"copyright\" content=\"Copyright © 2017 Sohu.com Inc. All Rights Reserved.\" />\\n<meta name=\"mediaid\" content=\"小学教师\"/>\\n<meta property=\"og:type\" content=\"news\"/>\\n<meta property=\"og:image\" content=\"//p9.itc.cn/q_70/images03/20210119/9450be7960b34c9ea5c9ec2acddd2c42.jpeg\"/>\\n<meta property=\"og:url\" content=\"www.sohu.com/a/445353566_737197\"/>\\n<meta property=\"og:release_date\" content=\"2021-01-17 18:00\"/>\\n<meta itemprop=\"dateUpdate\" content=\"2021-01-17 18:00\" />\\n<meta itemprop=\"datePublished\" content=\"2021-01-17 18:00\" />\\n<link rel=\"canonical\" href=\"http://www.sohu.com/a/445353566_737197\"/>\\n<link rel=\"alternate\" media=\"only screen and(max-width: 640px)\" href=\"m.sohu.com/a/445353566_737197\"/>\\n\\n<meta name=\"keywords\" content=\"北师大,年级,整理,数学,原著,小学教师,版权,网络,图文,问题,北师大,下册,五年级,课本\" />\\n<meta name=\"description\" content=\"小学教师 …\" />\\n<meta property=\"og:description\" content=\"小学教师 …\"/>\\n<meta property=\"og:title\" content=\"北师大版五年级数学下册电子课本_整理\"/>\\n        <meta charset=\"utf-8\"/>\\n<meta name=\"data-spm\" content=\"smpc\">\\n<meta name=\"renderer\" content=\"webkit\"> \\n<meta http-equiv=\"X-UA-Compatible\" content=\"IE=Edge,chrome=1\"/>\\n<meta name=\"viewport\" content=\"width=device-width, initial-scale=1,maximum-scale=1\" />\\n<link rel=\"icon\" href=\"//statics.itc.cn/web/static/images/pic/sohu-logo/favicon.ico\" type=\"image/x-icon\"/>\\n<link rel=\"shortcut icon\" href=\"//statics.itc.cn/web/static/images/pic/sohu-logo/favicon.ico\" type=\"image/x-icon\"/>\\n<link rel=\"apple-touch-icon\" sizes=\"57x57\" href=\"//statics.itc.cn/web/static/images/pic/sohu-logo/logo-57.png\" />\\n<link rel=\"apple-touch-icon\" sizes=\"72x72\" href=\"//statics.itc.cn/web/static/images/pic/sohu-logo/logo-72.png\" />\\n<link rel=\"apple-touch-icon\" sizes=\"114x114\" href=\"//statics.itc.cn/web/static/images/pic/sohu-logo/logo-114.png\" />\\n<link rel=\"apple-touch-icon\" sizes=\"144x144\" href=\"//statics.itc.cn/web/static/images/pic/sohu-logo/logo-144.png\" />\\n<link href=\"//statics.itc.cn/web/static/css/main-9d52b0b5e3.css\" rel=\"stylesheet\"/>\\n<script>\\n    //  加载监控代码\\n</script>\\n<!--[if lt IE 9]>\\n<script src=\"//statics.itc.cn/web/static/js/es5-shim-08e41cfc3e.min.js\"></script>\\n<script src=\"//statics.itc.cn/web/static/js/es5-sham-1d5fa1124b.min.js\"></script>\\n<script src=\"//statics.itc.cn/web/static/js/html5shiv-21fc8c2ba6.js\"></script>\\n<link href=\"//statics.itc.cn/web/static/css/ie8hack-9dce3c3b96.css\" rel=\"stylesheet\" />\\n<![endif]-->\\n<script type=\"text/javascript\">\\n//解決IE8,IE9不支持console的问题\\n(function() {\\n    var method;\\n    var noop = function() {};\\n    var methods = [\\n        \\'assert\\', \\'clear\\', \\'count\\', \\'debug\\', \\'dir\\', \\'dirxml\\', \\'error\\',\\n        \\'exception\\', \\'group\\', \\'groupCollapsed\\', \\'groupEnd\\', \\'info\\', \\'log\\',\\n        \\'markTimeline\\', \\'profile\\', \\'profileEnd\\', \\'table\\', \\'time\\', \\'timeEnd\\',\\n        \\'timeStamp\\', \\'trace\\', \\'warn\\'\\n    ];\\n    var length = methods.length;\\n    var console = (window.console = window.console || {});\\n\\n    while (length--) {\\n        method = methods[length];\\n\\n        // Only stub undefined methods.\\n        if (!console[method]) {\\n            console[method] = noop;\\n        }\\n    }\\n}());\\n</script>\\n<script type=\"text/javascript\">\\n    (function () {\\n        var html = document.getElementsByTagName(\"html\")[0];\\n        var width = Math.min(document.documentElement.clientWidth, 790);\\n        width = width < 320 ? 320 : width;\\n        if (document.documentElement.clientWidth <= 1024) {\\n            html.style.fontSize = width / 790 * 79 + \\'px\\';\\n        }\\n        if (window.addEventListener) {\\n            window.addEventListener(\\'resize\\', resizeHandler);\\n        }\\n        else if (window.attachEvent) {\\n            window.attachEvent(\\'onresize\\', resizeHandler);\\n        }\\n        function resizeHandler() {\\n            if (document.documentElement.clientWidth <= 1024) {\\n                var width = Math.min(document.documentElement.clientWidth, 790);\\n                width = width < 320 ? 320 : width;\\n                html.style.fontSize = width / 790 * 79 + \\'px\\';\\n            } else {\\n                html.style.fontSize = \"16px\";\\n            }\\n        };\\n    })();\\n</script>\\n\\n\\n        <script type=\"text/javascript\">\\n                        window.feedbackQuestion = [{\"score\":0.4,\"question\":{\"selection\":[1001,1002,1003],\"id\":1}},{\"score\":0.1,\"question\":{\"selection\":[1001,1004],\"id\":2}},{\"score\":0.4,\"question\":{\"selection\":[1001,1005,1006],\"id\":3}},{\"score\":0.1,\"question\":{\"selection\":[1001,1007,1008,1009],\"id\":4}}]\\n                                    window.deployEnv = \"prod\"\\n                    </script>\\n    </head>\\n        \\n        \\n            \\n    <body class=\"article-page\" data-region=\"149\" data-spm=\"content\" data-newsid=\"445353566\">\\n        <script>\\n            if (window && window.performance && typeof window.performance.now === \\'function\\') {\\n                var currentTime = Math.round(window.performance.now())\\n                !window.MptcfePerf ? window.MptcfePerf = { fmp: currentTime } : window.MptcfePerf.fmp = currentTime\\n                !window.MptcfePerf ? window.MptcfePerf = { pltst: +new Date() - currentTime} : window.MptcfePerf.pltst = +new Date() - currentTime\\n                !window.MptcfePerf ? window.MptcfePerf = { fmpst: +new Date() } : window.MptcfePerf.fmpst = +new Date()\\n            }\\n        </script>\\n        <div class=\"wrapper-box\">\\n            <header id=\"main-header\" class=\"error-head\">\\n\\n\\n\\t<div class=\"area\">\\n\\t\\t<div class=\"head-nav left\" data-spm=\"nav\">\\n\\t\\t\\t<ul>\\n\\t\\t\\t    <li class=\"index\"><a data-clev=\"10220248\" class=\"clearfix\" target=\"_blank\" href=\"http://www.sohu.com\"><em class=\"icon-home icon\"></em><em class=\"sohu-logo\">搜狐首页</em></a></li>\\n\\t\\t\\t\\t\\t\\t\\t\\t\\t\\t\\t\\t\\t\\t<li><a target=\"_blank\" data-clev=\"10220249\" href=\"http://news.sohu.com/\">新闻</a></li>\\n\\t\\t\\t\\t\\t\\t\\t\\t\\t\\t\\t\\t\\t\\t\\t\\t\\t\\t\\t<li><a target=\"_blank\" data-clev=\"10220250\" href=\"http://sports.sohu.com/\">体育</a></li>\\n\\t\\t\\t\\t\\t\\t\\t\\t\\t\\t\\t\\t\\t\\t\\t\\t\\t\\t\\t<li><a target=\"_blank\" data-clev=\"10220251\" href=\"http://auto.sohu.com/\">汽车</a></li>\\n\\t\\t\\t\\t\\t\\t\\t\\t\\t\\t\\t\\t\\t\\t\\t\\t\\t\\t\\t<li><a target=\"_blank\" data-clev=\"10220252\" href=\"http://www.focus.cn/\">房产</a></li>\\n\\t\\t\\t\\t\\t\\t\\t\\t\\t\\t\\t\\t\\t\\t\\t\\t\\t\\t\\t<li><a target=\"_blank\" data-clev=\"10220253\" href=\"http://travel.sohu.com/\">旅游</a></li>\\n\\t\\t\\t\\t\\t\\t\\t\\t\\t\\t\\t\\t\\t\\t\\t\\t\\t\\t\\t<li><a target=\"_blank\" data-clev=\"10220254\" href=\"http://learning.sohu.com/\">教育</a></li>\\n\\t\\t\\t\\t\\t\\t\\t\\t\\t\\t\\t\\t\\t\\t\\t\\t\\t\\t\\t<li><a target=\"_blank\" data-clev=\"10220255\" href=\"http://fashion.sohu.com/\">时尚</a></li>\\n\\t\\t\\t\\t\\t\\t\\t\\t\\t\\t\\t\\t\\t\\t\\t\\t\\t\\t\\t<li><a target=\"_blank\" data-clev=\"10220256\" href=\"http://it.sohu.com/\">科技</a></li>\\n\\t\\t\\t\\t\\t\\t\\t\\t\\t\\t\\t\\t\\t\\t\\t\\t\\t\\t\\t<li><a target=\"_blank\" data-clev=\"10220257\" href=\"http://business.sohu.com/\">财经</a></li>\\n\\t\\t\\t\\t\\t\\t\\t\\t\\t\\t\\t\\t\\t\\t\\t\\t\\t\\t\\t<li><a target=\"_blank\" data-clev=\"10220258\" href=\"http://yule.sohu.com/\">娱乐</a></li>\\n\\t\\t\\t\\t\\t\\t\\t\\t\\t\\t\\t\\t\\t\\t\\t\\t\\t\\t\\t\\t\\t\\t\\t\\t\\t\\t\\t\\t\\t\\t\\t\\t\\t\\t\\t\\t\\t\\t\\t\\t\\t\\t\\t\\t\\t\\t\\t\\t\\t\\t\\t\\t\\t\\t\\t\\t\\t\\t\\t\\t\\t\\t\\t\\t\\t\\t\\t\\t\\t\\t\\t\\t\\t\\t\\t\\t\\t\\t\\t\\t\\t\\t\\t\\t\\t\\t\\t\\t\\t\\t\\t\\t\\t\\t\\t\\t\\t\\t\\t\\t\\t\\t\\t\\t\\t\\t\\t\\t\\t\\t\\t\\t\\t\\t\\t\\t\\t\\t\\t\\t\\t<li class=\"more-nav\"><a class=\"more-tag\" href=\"javascript:void(0)\">更多<em class=\"cor\"></em></a>\\n\\t\\t\\t\\t\\t<div class=\"more-nav-box\">\\n\\t\\t\\t\\t\\t\\t\\t\\t\\t\\t\\t\\t\\t\\t\\t\\t\\t\\t\\t\\t\\t\\t\\t\\t\\t\\t\\t\\t\\t\\t\\t\\t\\t\\t\\t\\t\\t\\t\\t\\t\\t\\t\\t\\t\\t\\t\\t\\t\\t\\t\\t\\t\\t\\t\\t\\t\\t\\t\\t\\t\\t\\t\\t\\t\\t\\t\\t\\t\\t\\t\\t\\t\\t\\t\\t\\t\\t\\t\\t\\t\\t\\t\\t\\t\\t\\t\\t\\t\\t\\t\\t\\t\\t\\t\\t\\t\\t\\t\\t\\t\\t\\t\\t\\t\\t\\t\\t\\t\\t\\t\\t\\t\\t\\t\\t\\t\\t\\t\\t\\t\\t\\t\\t\\t\\t\\t\\t\\t\\t\\t\\t\\t\\t\\t\\t\\t\\t\\t\\t\\t\\t\\t\\t\\t\\t\\t\\t\\t\\t<a href=\"http://baobao.sohu.com/\">母婴</a>\\n\\t\\t\\t\\t\\t\\t\\t\\t\\t\\t\\t\\t\\t\\t\\t\\t\\t\\t\\t\\t\\t\\t\\t\\t\\t\\t<a href=\"http://health.sohu.com/\">健康</a>\\n\\t\\t\\t\\t\\t\\t\\t\\t\\t\\t\\t\\t\\t\\t\\t\\t\\t\\t\\t\\t\\t\\t\\t\\t\\t\\t<a href=\"http://history.sohu.com/\">历史</a>\\n\\t\\t\\t\\t\\t\\t\\t\\t\\t\\t\\t\\t\\t\\t\\t\\t\\t\\t\\t\\t\\t\\t\\t\\t\\t\\t<a href=\"http://mil.sohu.com/\">军事</a>\\n\\t\\t\\t\\t\\t\\t\\t\\t\\t\\t\\t\\t\\t\\t\\t\\t\\t\\t\\t\\t\\t\\t\\t\\t\\t\\t<a href=\"http://chihe.sohu.com/\">美食</a>\\n\\t\\t\\t\\t\\t\\t\\t\\t\\t\\t\\t\\t\\t\\t\\t\\t\\t\\t\\t\\t\\t\\t\\t\\t\\t\\t<a href=\"http://cul.sohu.com/\">文化</a>\\n\\t\\t\\t\\t\\t\\t\\t\\t\\t\\t\\t\\t\\t\\t\\t\\t\\t\\t\\t\\t\\t\\t\\t\\t\\t\\t<a href=\"http://astro.sohu.com/\">星座</a>\\n\\t\\t\\t\\t\\t\\t\\t\\t\\t\\t\\t\\t\\t\\t\\t\\t\\t\\t\\t\\t\\t\\t\\t\\t\\t\\t<a href=\"https://www.sohu.com/subject\">专题</a>\\n\\t\\t\\t\\t\\t\\t\\t\\t\\t\\t\\t\\t\\t\\t\\t\\t\\t\\t\\t\\t\\t\\t\\t\\t\\t\\t<a href=\"http://game.sohu.com/\">游戏</a>\\n\\t\\t\\t\\t\\t\\t\\t\\t\\t\\t\\t\\t\\t\\t\\t\\t\\t\\t\\t\\t\\t\\t\\t\\t\\t\\t<a href=\"http://fun.sohu.com/\">搞笑</a>\\n\\t\\t\\t\\t\\t\\t\\t\\t\\t\\t\\t\\t\\t\\t\\t\\t\\t\\t\\t\\t\\t\\t\\t\\t\\t\\t<a href=\"http://acg.sohu.com/\">动漫</a>\\n\\t\\t\\t\\t\\t\\t\\t\\t\\t\\t\\t\\t\\t\\t\\t\\t\\t\\t\\t\\t\\t\\t\\t\\t\\t\\t<a href=\"http://pets.sohu.com/\">宠物</a>\\n\\t\\t\\t\\t\\t\\t\\t\\t\\t\\t\\t\\t\\t\\t\\t\\t\\t\\t</div>\\n\\t\\t\\t\\t</li>\\n\\t\\t\\t\\t<li><a href=\"javascript:void(0)\" id=\"pc-channel-wza-entry\">无障碍</a></li>\\n\\t\\t\\t</ul>\\n\\t\\t</div>\\n\\t\\t<div id=\"head-login\" class=\"right login\">\\n\\t\\t</div>\\n\\t</div>\\n\\n</header>            <div class=\"location-without-nav\"></div>\\n            <div class=\"area clearfix\" id=\"article-container\">\\n                <div class=\"column left\">\\n\\t\\t\\t<div class=\"user-info\" id=\"user-info\" data-spm=\"author\">\\n    <div class=\"user-pic\">\\n        <!-- fromWhere为10是马甲号作者不可点击进入个人页面 -->\\n                    <a href=\"https://mp.sohu.com/profile?xpt=eGlhb3h1ZWpzMTAwQHNvaHUuY29t&_f=index_pagemp_1\" target=\"_blank\">\\n                <img src=\"http://wx.qlogo.cn/mmhead/Q3auHgzwzM4xS60D38CVpCC4ib3LlyASIRvyvnfQtbcG2E8FXPGRy7A/0\" alt=\"\">\\n            </a>\\n            </div>\\n\\n    <h4>\\n                    <a href=\"https://mp.sohu.com/profile?xpt=eGlhb3h1ZWpzMTAwQHNvaHUuY29t&_f=index_pagemp_1\" target=\"_blank\">小学教师</a>\\n                    </h4>\\n    <!-- 积分 -->\\n            <div class=\"fox-wrap\" id=\"fox-integration\">\\n            <div class=\"fox-head-wrap\" data-grade=\"tag\">\\n                                                                    <span class=\"fox-logo \\n                                                fox-golden\\n                        \">\\n                    </span>\\n                            </div>\\n            <div class=\"fox-hover-wrap\" data-grade=\"grade\">\\n                <div class=\"fox-each-wrap \\n                                        fox-each-golden\\n                    \">\\n                    <p class=\"fox-content\">\\n                        由内容质量、互动评论、分享传播等多维度分值决定，勋章级别越高(\\n                        <span class=\"fox-grade\"></span>\\n                        )，代表其在平台内的综合表现越好。\\n                    </p>\\n                </div>\\n            </div>\\n        </div>\\n    \\n                    <dl class=\"user-num\">\\n        <dd><span class=\"value\" data-value=\"0\" data-role=\"info-article-num\"><em class=\"num\"></em></span>文章</dd>\\n        <dd><span class=\"value\" data-value=\"\" data-role=\"info-read-num\"><em class=\"num\"></em></span>总阅读</dd>\\n    </dl>\\n    \\n    <!-- 企业认证 -->\\n            <ul class=\"company\">\\n                    </ul>\\n    \\n    <!-- 非马甲号作者 -->\\n            <div class=\"user-more\">\\n            <a href=\"https://mp.sohu.com/profile?xpt=eGlhb3h1ZWpzMTAwQHNvaHUuY29t&_f=index_pagemp_2\" target=\"_blank\">查看TA的文章&gt;</a>\\n        </div>\\n    </div>\\t\\t<div class=\"article-do\" id=\"article-do\" data-spm=\"share\">\\n\\t\\t<div class=\"article-done\">\\n    <div class=\"title\">评论</div>\\n    <dl>\\n\\n        <dd class=\"comment-do\"><a href=\"#comment_area\" data-spm-acode=\"8089\"><em class=\"comment-icon icon\"></em><span class=\"num\" data-role=\"comment-count\"></span></a></dd>\\n        <!--<dd class=\"zan-do\" data-role=\"like-btn\"><a href=\"javascript:void(0)\"><span class=\"num\" data-role=\"like\">0</span><em class=\"icon zan-icon\"></em></a>\\n\\n            <span class=\"add-one\">+1</span>\\n        </dd>-->\\n    </dl>\\n</div>\\n\\t\\t<div class=\"share\" id=\"share\">\\n\\n\\t\\t</div>\\n\\n\\t</div>\\n\\n</div>\\n                <div class=\"left main\">\\n                    <div data-spm=\"content\">   \\n                        <div class=\"text\">\\n                            <div class=\"text-title\">\\n    <h1>\\n                    北师大版五年级数学下册电子课本\\n                <span class=\"article-tag\">\\n                 </span>\\n    </h1>\\n            <div class=\"article-info\">\\n        <span class=\"time\" id=\"news-time\" data-val=\"1610877600000\">2021-01-17 18:00</span>\\n        <span data-role=\"original-link\">来源:\\n                            <a href=\"//www.sohu.com\" target=\"_blank\">小学教师</a>                    </span>\\n        \\n    </div>\\n</div>\\n<article class=\"article\" id=\"mp-editor\">\\n    <!-- 政务处理 -->\\n          <p data-role=\"original-title\" style=\"display:none\">原标题：北师大版五年级数学下册电子课本</p>\\n              <!--                                                                                                                                                                                                                                                                                                                                                                                                                                                                                                                                                                                                                                                                                                                                                                                                                                                                                  -->\\n            <p>小学教师 </p> \\n<p><img width=\"100%\" src=\"https://p5.itc.cn/q_70/images03/20210119/3fb8a8f2c23f4e769145d7f56ab53673.jpeg\" /></p> \\n<p><img width=\"100%\" src=\"https://p9.itc.cn/q_70/images03/20210119/9450be7960b34c9ea5c9ec2acddd2c42.jpeg\" /></p> \\n<p><img width=\"100%\" src=\"https://p4.itc.cn/q_70/images03/20210119/bce376fd4ce54c218b1fcc4e6ba75d7d.jpeg\" /></p> \\n<p><img width=\"100%\" src=\"https://p3.itc.cn/q_70/images03/20210119/7ba60667ff374a10bb54eb9fee0246f1.jpeg\" /></p> \\n<p><img width=\"100%\" src=\"https://p4.itc.cn/q_70/images03/20210119/8fd2c22e2a3949ec8ce2f40022899361.jpeg\" /></p> \\n<p><img width=\"100%\" src=\"https://p9.itc.cn/q_70/images03/20210119/b40a0a0f4db8481ba896c9e384da9765.jpeg\" /></p> \\n<p><img width=\"100%\" src=\"https://p0.itc.cn/q_70/images03/20210119/1878eea4bb4748d2a8c663f79d7fdfaf.jpeg\" /></p> \\n<p><img width=\"100%\" src=\"https://p4.itc.cn/q_70/images03/20210119/31c9b066e8b64a6a85a1f07855077d8e.jpeg\" /></p> \\n<p><img width=\"100%\" src=\"https://p0.itc.cn/q_70/images03/20210119/21373b900b174070b8a2f3ba65e668c4.jpeg\" /></p> \\n<p><img width=\"100%\" src=\"https://p9.itc.cn/q_70/images03/20210119/53eeff96f60844caba7db4ccc9cba946.jpeg\" /></p> \\n<p><img width=\"100%\" src=\"https://p9.itc.cn/q_70/images03/20210119/0c0a4a4f21fc4ed6ab6da3fba1043a7a.jpeg\" /></p> \\n<p><img width=\"100%\" src=\"https://p4.itc.cn/q_70/images03/20210119/4eb784dce7684f3a92401babdcee4570.jpeg\" /></p> \\n<p><img width=\"100%\" src=\"https://p6.itc.cn/q_70/images03/20210119/191c11de98754bb087991ca83800fb48.jpeg\" /></p> \\n<p><img width=\"100%\" src=\"https://p6.itc.cn/q_70/images03/20210119/61e62e3105464e48b74d67737bd469b5.jpeg\" /></p> \\n<p><img width=\"100%\" src=\"https://p7.itc.cn/q_70/images03/20210119/deb8637b007844c4b21a4c05c11a6fcd.jpeg\" /></p> \\n<p><img width=\"100%\" src=\"https://p9.itc.cn/q_70/images03/20210119/26fa3789b4fb4ac696c9cb6cc52ced97.jpeg\" /></p> \\n<p><img width=\"100%\" src=\"https://p3.itc.cn/q_70/images03/20210119/afca2fc4989e4e7097bc23c766811d4f.jpeg\" /></p> \\n<p><img width=\"100%\" src=\"https://p8.itc.cn/q_70/images03/20210119/21c8f0bfed774db98093a7347312fe64.jpeg\" /></p> \\n<p><img width=\"100%\" src=\"https://p6.itc.cn/q_70/images03/20210119/63d71b1a01074d40b442e687aa51f33c.jpeg\" /></p> \\n<p><img width=\"100%\" src=\"https://p0.itc.cn/q_70/images03/20210119/d21c8a3b0af14598bd2d21f0447ffb4b.jpeg\" /></p> \\n<p><img width=\"100%\" src=\"https://p9.itc.cn/q_70/images03/20210119/7c0e5f3e8d2b47da85a3651434af818b.jpeg\" /></p> \\n<p><img width=\"100%\" src=\"https://p3.itc.cn/q_70/images03/20210119/fbf0c03657d84176960cc839a2b19291.jpeg\" /></p> \\n<p><img width=\"100%\" src=\"https://p3.itc.cn/q_70/images03/20210119/f81cab97cb4c4e9894c24c23d416ed45.jpeg\" /></p> \\n<p><img width=\"100%\" src=\"https://p3.itc.cn/q_70/images03/20210119/b603658eeed94e819f7927dd06a19999.jpeg\" /></p> \\n<p><img width=\"100%\" src=\"https://p2.itc.cn/q_70/images03/20210119/a04c919a6b204e52a3201ed8bb46ac35.jpeg\" /></p> \\n<p><img width=\"100%\" src=\"https://p7.itc.cn/q_70/images03/20210119/0304efa3d90745248b846f57e2f3a487.jpeg\" /></p> \\n<p><img width=\"100%\" src=\"https://p5.itc.cn/q_70/images03/20210119/601262dade4445c4bdc4ebf020fbabce.jpeg\" /></p> \\n<p><img width=\"100%\" src=\"https://p6.itc.cn/q_70/images03/20210119/54543fac58fc4c9cbdf79e3d35c083ae.jpeg\" /></p> \\n<p><img width=\"100%\" src=\"https://p7.itc.cn/q_70/images03/20210119/be43f7e4bded4e0e846f0fd5e8febead.jpeg\" /></p> \\n<p><img width=\"100%\" src=\"https://p1.itc.cn/q_70/images03/20210119/6d8a33bd7ee444a499568d98825dec85.jpeg\" /></p> \\n<p><img width=\"100%\" src=\"https://p7.itc.cn/q_70/images03/20210119/3748f447c8c345fbbccf9af32f8da200.jpeg\" /></p> \\n<p><img width=\"100%\" src=\"https://p3.itc.cn/q_70/images03/20210119/56e4f334b1084c10a21625f59736e503.jpeg\" /></p> \\n<p><img width=\"100%\" src=\"https://p7.itc.cn/q_70/images03/20210119/9c932694be4f415895537bb6ff48d747.jpeg\" /></p> \\n<p><img width=\"100%\" src=\"https://p8.itc.cn/q_70/images03/20210119/f824581849cb449abe272f172cf52241.jpeg\" /></p> \\n<p><img width=\"100%\" src=\"https://p5.itc.cn/q_70/images03/20210119/83bc41390ffd44a894b050eda58577cd.jpeg\" /></p> \\n<p><img width=\"100%\" src=\"https://p2.itc.cn/q_70/images03/20210119/fa790bd3947540f9832a78b16ea2cda2.jpeg\" /></p> \\n<p><img width=\"100%\" src=\"https://p5.itc.cn/q_70/images03/20210119/e3df0f77ddb942deb9d72612b8c4d897.jpeg\" /></p> \\n<p><img width=\"100%\" src=\"https://p2.itc.cn/q_70/images03/20210119/99a69adb089f476db3b90d7cd4c30ccc.jpeg\" /></p> \\n<p><img width=\"100%\" src=\"https://p5.itc.cn/q_70/images03/20210119/15ce4d52925c479faac60ed0ab42e43b.jpeg\" /></p> \\n<p><img width=\"100%\" src=\"https://p9.itc.cn/q_70/images03/20210119/0f0e2b2e92a5406b975f4d698918789c.jpeg\" /></p> \\n<p><img width=\"100%\" src=\"https://p7.itc.cn/q_70/images03/20210119/12418451c1f34c0ca512ca990207b8a7.jpeg\" /></p> \\n<p><img width=\"100%\" src=\"https://p7.itc.cn/q_70/images03/20210119/b5ad716afb8947e2b5cd4d1dca4352fb.jpeg\" /></p> \\n<p><img width=\"100%\" src=\"https://p5.itc.cn/q_70/images03/20210119/0ad5a871e48841df86ff615dfcea4f81.jpeg\" /></p> \\n<p><img width=\"100%\" src=\"https://p1.itc.cn/q_70/images03/20210119/da82197da33844949a57b5989073761e.jpeg\" /></p> \\n<p><img width=\"100%\" src=\"https://p6.itc.cn/q_70/images03/20210119/7395df8d2354437fbaf458fba1ffec6a.jpeg\" /></p> \\n<p><img width=\"100%\" src=\"https://p7.itc.cn/q_70/images03/20210119/6e8a2eba6a33442da76af4c2ddc457dd.jpeg\" /></p> \\n<p><img width=\"100%\" src=\"https://p5.itc.cn/q_70/images03/20210119/8b4111331684429cb73af67c669d9c79.jpeg\" /></p> \\n<p><img width=\"100%\" src=\"https://p0.itc.cn/q_70/images03/20210119/30313513de1640b49ba44030c3580291.jpeg\" /></p> \\n<p><img width=\"100%\" src=\"https://p0.itc.cn/q_70/images03/20210119/53dace41ddc24c3aa5f7ce2d5c2d1485.jpeg\" /></p> \\n<p><img width=\"100%\" src=\"https://p6.itc.cn/q_70/images03/20210119/a7d68a9b05ab40f59ca82069d449b2b2.jpeg\" /></p> \\n<p><img width=\"100%\" src=\"https://p2.itc.cn/q_70/images03/20210119/37b0b00af099496fb7a075c9bc561153.jpeg\" /></p> \\n<p><img width=\"100%\" src=\"https://p2.itc.cn/q_70/images03/20210119/17f1da4d464f4ca6ab39c8b972c31c6e.jpeg\" /></p> \\n<p><img width=\"100%\" src=\"https://p0.itc.cn/q_70/images03/20210119/f0050e53252d4636bec3a64c58c98101.jpeg\" /></p> \\n<p><img width=\"100%\" src=\"https://p7.itc.cn/q_70/images03/20210119/cb0fdf80df8f49499bbe9738e6cea078.jpeg\" /></p> \\n<p><img width=\"100%\" src=\"https://p3.itc.cn/q_70/images03/20210119/d4d3f36d26b741b89598b8d54bfe3011.jpeg\" /></p> \\n<p><img width=\"100%\" src=\"https://p2.itc.cn/q_70/images03/20210119/e1d5a03668b84394b1c05f9efd077540.jpeg\" /></p> \\n<p><img width=\"100%\" src=\"https://p3.itc.cn/q_70/images03/20210119/ed1bb315fdb94e7aabf551728c98b878.jpeg\" /></p> \\n<p><img width=\"100%\" src=\"https://p5.itc.cn/q_70/images03/20210119/aa1f9ec411d242bea3c8592cfb575163.jpeg\" /></p> \\n<p><img width=\"100%\" src=\"https://p8.itc.cn/q_70/images03/20210119/28973654b35c4040a938e016dd6e4017.jpeg\" /></p> \\n<p><img width=\"100%\" src=\"https://p5.itc.cn/q_70/images03/20210119/4f47456d88b14a839aad5af7e2a8647c.jpeg\" /></p> \\n<p><img width=\"100%\" src=\"https://p6.itc.cn/q_70/images03/20210119/321b2c8fc1af448b894febd1214ca18a.jpeg\" /></p> \\n<p><img width=\"100%\" src=\"https://p6.itc.cn/q_70/images03/20210119/9c5ccd9137d346ea8ee515b8aed47fab.jpeg\" /></p> \\n<p><img width=\"100%\" src=\"https://p2.itc.cn/q_70/images03/20210119/0262e6df4f274146b44194ee7d205389.jpeg\" /></p> \\n<p><img width=\"100%\" src=\"https://p9.itc.cn/q_70/images03/20210119/ae1c9a82618d4d56bb18011108e14261.jpeg\" /></p> \\n<p><img width=\"100%\" src=\"https://p1.itc.cn/q_70/images03/20210119/74694b906ecc475c9adb789e67a5a765.jpeg\" /></p> \\n<p><img width=\"100%\" src=\"https://p5.itc.cn/q_70/images03/20210119/1e95cb56e5244383854af777b93258e5.jpeg\" /></p> \\n<p><img width=\"100%\" src=\"https://p7.itc.cn/q_70/images03/20210119/53ecb10216374cbeba54a2947a964c60.jpeg\" /></p> \\n<p><img width=\"100%\" src=\"https://p0.itc.cn/q_70/images03/20210119/a167a47c87844cd2bb682d3c11b855af.jpeg\" /></p> \\n<p><img width=\"100%\" src=\"https://p5.itc.cn/q_70/images03/20210119/8cd8be220bd74707ac740bce5a5f63ac.jpeg\" /></p> \\n<p><img width=\"100%\" src=\"https://p8.itc.cn/q_70/images03/20210119/a80d869d77844210b0c7334cb7c06935.jpeg\" /></p> \\n<p><img width=\"100%\" src=\"https://p1.itc.cn/q_70/images03/20210119/eeabde1d4210485189501f4d52f61a38.jpeg\" /></p> \\n<p><img width=\"100%\" src=\"https://p8.itc.cn/q_70/images03/20210119/fc37167e32454a3c8a66a50e03ccfc16.jpeg\" /></p> \\n<p><img width=\"100%\" src=\"https://p8.itc.cn/q_70/images03/20210119/2b1ea3f9927f4f3e9f4c63370373a411.jpeg\" /></p> \\n<p><img width=\"100%\" src=\"https://p2.itc.cn/q_70/images03/20210119/6f783f0130754138b22619bd90365ebb.jpeg\" /></p> \\n<p><img width=\"100%\" src=\"https://p1.itc.cn/q_70/images03/20210119/610cc910caa349afb5ab0537cda935a7.jpeg\" /></p> \\n<p><img width=\"100%\" src=\"https://p0.itc.cn/q_70/images03/20210119/acd49ce749af48f28c3e2378f6e9cbbf.jpeg\" /></p> \\n<p><img width=\"100%\" src=\"https://p0.itc.cn/q_70/images03/20210119/72a7370b65b143b2874b33908aa99cf2.jpeg\" /></p> \\n<p><img width=\"100%\" src=\"https://p8.itc.cn/q_70/images03/20210119/733164fd5e934e34b36d7fedd2feb5d3.jpeg\" /></p> \\n<p><img width=\"100%\" src=\"https://p4.itc.cn/q_70/images03/20210119/7390d250c1124e8fad94f15f0c1a260c.jpeg\" /></p> \\n<p><img width=\"100%\" src=\"https://p6.itc.cn/q_70/images03/20210119/4e692aeed38f434ca395540b7113e125.jpeg\" /></p> \\n<p><img width=\"100%\" src=\"https://p1.itc.cn/q_70/images03/20210119/991fef55f79d4218a3750b3500321391.jpeg\" /></p> \\n<p><img width=\"100%\" src=\"https://p2.itc.cn/q_70/images03/20210119/22e3e384884244c19ce12b0dcfb54970.jpeg\" /></p> \\n<p><img width=\"100%\" src=\"https://p5.itc.cn/q_70/images03/20210119/8052e037e66241fd88d92f902c3f752a.jpeg\" /></p> \\n<p><img width=\"100%\" src=\"https://p3.itc.cn/q_70/images03/20210119/ed77256549fa4e8aafbc489f03a6c4d8.jpeg\" /></p> \\n<p><img width=\"100%\" src=\"https://p4.itc.cn/q_70/images03/20210119/52344f973f9147f080b2fc4a5dc2f8fe.jpeg\" /></p> \\n<p><img width=\"100%\" src=\"https://p8.itc.cn/q_70/images03/20210119/35c17a6531cb4cbeadcfd7b74f4c53a5.jpeg\" /></p> \\n<p><img width=\"100%\" src=\"https://p3.itc.cn/q_70/images03/20210119/bf7d9368bb8c4a2eb8f328116558da02.jpeg\" /></p> \\n<p><img width=\"100%\" src=\"https://p7.itc.cn/q_70/images03/20210119/ab45ce8f4b654fdcb0e618ca8124bd7f.jpeg\" /></p> \\n<p><img width=\"100%\" src=\"https://p5.itc.cn/q_70/images03/20210119/6fdf8b4209d541d6a80d0ca1ac22b554.jpeg\" /></p> \\n<p><img width=\"100%\" src=\"https://p8.itc.cn/q_70/images03/20210119/a1a676d5da5f42e28c5261c2c540a9eb.jpeg\" /></p> \\n<p><img width=\"100%\" src=\"https://p3.itc.cn/q_70/images03/20210119/84d768a272dd4852861467bc62c15c18.jpeg\" /></p> \\n<p><img width=\"100%\" src=\"https://p3.itc.cn/q_70/images03/20210119/e3a3ad18654b461ca5cce00622bcdd94.jpeg\" /></p> \\n<p><img width=\"100%\" src=\"https://p1.itc.cn/q_70/images03/20210119/65be1d832e0d40859ae7983960682b65.jpeg\" /></p> \\n<p><img width=\"100%\" src=\"https://p9.itc.cn/q_70/images03/20210119/3b2d98e4144042e1afda67bcea68c4b1.jpeg\" /></p> \\n<p><img width=\"100%\" src=\"https://p1.itc.cn/q_70/images03/20210119/1d5994985fae4fb8bf10126c5ad12266.jpeg\" /></p> \\n<p><img width=\"100%\" src=\"https://p4.itc.cn/q_70/images03/20210119/770040b5f82b4afba410bba08546459d.jpeg\" /></p> \\n<p><img width=\"100%\" src=\"https://p6.itc.cn/q_70/images03/20210119/0ec300d8149d459bbaf8270f4de26a6c.jpeg\" /></p> \\n<p><img width=\"100%\" src=\"https://p9.itc.cn/q_70/images03/20210119/def863612a33455c8a60b51f24363489.jpeg\" /></p> \\n<p><img width=\"100%\" src=\"https://p3.itc.cn/q_70/images03/20210119/9f036e8f6f934a188d969d56ca80e371.jpeg\" /></p> \\n<p><img width=\"100%\" src=\"https://p3.itc.cn/q_70/images03/20210119/83f369841fec4d2ea990e34976b4199a.jpeg\" /></p> \\n<p><img width=\"100%\" src=\"https://p0.itc.cn/q_70/images03/20210119/0ca150b3a51240b39b0dea0b90a5841e.jpeg\" /></p> \\n<p><img width=\"100%\" src=\"https://p9.itc.cn/q_70/images03/20210119/50a0a75ac6f1426bb312a386d4d68455.jpeg\" /></p> \\n<p><img width=\"100%\" src=\"https://p4.itc.cn/q_70/images03/20210119/c4d00242359a4db087bfdc61616325ba.jpeg\" /></p> \\n<p><img width=\"100%\" src=\"https://p9.itc.cn/q_70/images03/20210119/d120c4a9ae5940dca53e1f13ead785a6.jpeg\" /></p> \\n<p><img width=\"100%\" src=\"https://p8.itc.cn/q_70/images03/20210119/62ea75f1ae014c3f94a9dee772e906ec.jpeg\" /></p> \\n<p style=\"text-align: left;\"><span style=\"font-size: 16px;\">〓综合整理 |小学教师 以上部分图文来源于网络整理，版权归原著，如有问题请留言给小编。</span><a href=\"//www.sohu.com/?strategyid=00001 \" target=\"_blank\" title=\"点击进入搜狐首页\" id=\"backsohucom\" style=\"white-space: nowrap;\"><span class=\"backword\"><i class=\"backsohu\"></i>返回搜狐，查看更多</span></a></p>          <!-- 政务账号添加来源标示处理 -->\\n      <!-- 政务账号添加来源标示处理 -->\\n      <p data-role=\"editor-name\">责任编辑：<span></span></p>\\n</article>\\n<script>\\n    (function() {\\n        function getBrandHtml() {\\n            var brands = [],\\n            html = \\'\\';\\n                        for(var i = 0; i < brands.length; i++) {\\n                var brand = brands[i];\\n                if(brands.length == i+1) {\\n                    html+= \\'<a class=\"username-link\" href=\"\\'+brand.url+\\'\" target=\"_blank\">\\'+brand.name+\\'</a>\\';\\n                } else {\\n                    html+= \\'<a class=\"username-link\" href=\"\\'+brand.url+\\'\" target=\"_blank\">\\'+brand.name+\\'</a>、\\';\\n                }\\n            }\\n            return html;\\n\\n        };\\n        if(document.getElementById(\\'linkBtn\\')){\\n            document.getElementById(\\'linkBtn\\').onclick = function() {\\n                $(\\'#brands\\').removeClass(\\'brand\\');\\n                $(\\'#tipInfo\\').text(\\'已实名回应\\');\\n                $(\\'#linkBtn\\').remove();\\n                $(\\'.real-response .content\\').css(\\'line-height\\', \\'20px\\');\\n                $(\\'.real-response .time\\').css(\\'line-height\\', \\'20px\\');\\n            };\\n    \\n            document.getElementById(\\'brands\\').innerHTML = getBrandHtml();\\n        };\\n    })();\\n</script>\\n    <div id=\"atricleVote\"></div>\\n  <div class=\"statement\">声明：该文观点仅代表作者本人，搜狐号系信息发布平台，搜狐仅提供信息存储空间服务。</div>  <div class=\"bottom-relate-wrap clear type-3\">\\n    \\n    <!-- 点赞选择方案2，contentLike对应值为3 -->\\n            <div class=\"article-like\" id=\"article-like\" data-like-type=\"type-3\">\\n</div>        <div class=\"read-wrap\">\\n        <span class=\"read-num\">阅读 (<em data-role=\"pv\" data-val=\"$articleStat.pv\"></em>)</span>\\n    </div>\\n</div>\\n     \\n                            <div id=\"sohu-play-content\"></div>\\n                        </div>\\n                    </div>\\n                                        <div data-spm=\"middle-banner-ad\">\\n                                            </div>\\n                    <div class=\"article-allsee clear\" id=\"articleAllsee\">\\n    <div class=\"title\">\\n        <span>\\n            <em class=\"ln\"></em>\\n            大家都在看\\n        </span>\\n    </div>\\n    <div class=\"allsee-list clear\" id=\"allseeList\" data-spm=\"fd-link\">\\n    </div>\\n</div>                    <div class=\"god-article-bottom\" id=\"god_bottom_banner\" data-spm=\"ad-text-bottom\" style=\"display:block\">\\n</div>\\n<div class=\"user-god clear\" id=\"user-post\" style=\"display:none\">\\n\\n</div>                    <div class=\"comment\" id=\"comment_area\" data-spm=\"comment\"  data-abdata=\"1\">\\n    <div id=\"mp-comment\" sid=\"445353566\"></div> \\n</div>                    \\n<div class=\"groom-read\">\\n    <div class=\"title\"><span><em class=\"ln\"></em>推荐阅读</span></div>\\n    <!-- <div class=\"groom-menu clear \" id=\"news-recommend-nav\" data-spm=\"hottag\">\\n<ul>     <li class=\"cur\" data-id=\"\"><a href=\"javascript:void(0)\"><em class=\"dot\"></em>推荐</a></li>\\n               <li data-id=\"\" data-tag-id=\"69323\" ><a href=\"//search.sohu.com/?keyword=自主招生&queryType=outside\">自主招生</a></li>\\n                <li data-id=\"\" data-tag-id=\"66561\" ><a href=\"//search.sohu.com/?keyword=幼儿园&queryType=outside\">幼儿园</a></li>\\n                <li data-id=\"\" data-tag-id=\"50547\" ><a href=\"//search.sohu.com/?keyword=志愿填报&queryType=outside\">志愿填报</a></li>\\n                <li data-id=\"\" data-tag-id=\"70663\" ><a href=\"//search.sohu.com/?keyword=批判性思维&queryType=outside\">批判性思维</a></li>\\n                <li data-id=\"\" data-tag-id=\"77931\" ><a href=\"//search.sohu.com/?keyword=高考&queryType=outside\">高考</a></li>\\n                <li data-id=\"\" data-tag-id=\"68627\" ><a href=\"//search.sohu.com/?keyword=霸凌&queryType=outside\">霸凌</a></li>\\n                <li data-id=\"\" data-tag-id=\"58260\" ><a href=\"//search.sohu.com/?keyword=高考改革&queryType=outside\">高考改革</a></li>\\n                <li data-id=\"\" data-tag-id=\"66584\" ><a href=\"//search.sohu.com/?keyword=状元&queryType=outside\">状元</a></li>\\n                <li data-id=\"\" data-tag-id=\"78070\" ><a href=\"//search.sohu.com/?keyword=毛坦厂中学&queryType=outside\">毛坦厂中学</a></li>\\n                <li data-id=\"\" data-tag-id=\"51226\" ><a href=\"//search.sohu.com/?keyword=艺考&queryType=outside\">艺考</a></li>\\n                <li data-id=\"\" data-tag-id=\"57960\" ><a href=\"//search.sohu.com/?keyword=清华大学&queryType=outside\">清华大学</a></li>\\n                <li data-id=\"\" data-tag-id=\"66591\" ><a href=\"//search.sohu.com/?keyword=四六级&queryType=outside\">四六级</a></li>\\n            \\n</ul>\\n</div>\\n -->\\n    <div class=\"news-list clear\" id=\"main-news\" style=\"min-height:1000px\">\\n    </div>\\n</div>\\n                </div>\\n                <div class=\"sidebar right\" id=\"right-side-bar\" data-a=\"false\">\\n    \\n    \\n    <div class=\"search-right\" id=\"search\" data-spm=\"search-box\"></div>\\n\\n    <div class=\"godA\" id=\"nav_button\" data-spm=\"ad-right-sponsor\">\\n\\n    </div>\\n    <div class=\"godR\" id=\"god_1\" data-spm=\"ad-sq1\" style=\"display: block;\">\\n\\n    </div>\\n    <div id=\"god_1_2\" style=\"padding:10px 20px; display: none;\" data-spm=\"ad-sq1\">\\n\\n    </div>\\n\\n        \\n    <div data-role=\"hot-pic\" class=\"clearfix bord hot-atlas\"></div>\\n    <div data-role=\"four-pic\" class=\"clearfix hot-atlas\"></div>\\n    \\n    \\n    <div class=\"godR\" id=\"god_2\" data-spm=\"ad-sq2\" style=\"display:block\">\\n\\n    </div>\\n    <div id=\"god_2_2\" style=\"padding:10px 20px; display: none;\" data-spm=\"ad-sq2\">\\n\\n    </div>\\n    \\n<div class=\"hot-article clear bord\" id=\"hot-news\" data-spm=\"tw\">\\n\\n</div>\\n    <div class=\"godR\" id=\"god_3\" data-spm=\"ad-sq3\" style=\"display:block\">\\n\\n    </div>\\n    <div id=\"god_3_2\" style=\"padding:10px 20px; display: none;\" data-spm=\"ad-sq3\">\\n        \\n    </div>\\n    \\n<div class=\"bord clear recommend\" id=\"recommend-writer\" data-spm=\"mp\">\\n\\n</div>\\n    <div class=\"godR\" id=\"god_4\" data-spm=\"ad-sq4\" style=\"display:block\">\\n\\n    </div>\\n    <div id=\"god_4_2\" style=\"padding:10px 20px; display: none;\" data-spm=\"ad-sq4\">\\n        \\n    </div>\\n    <div class=\"article-recom right-side clear\" id=\"sogou-words\">\\n</div>    <div id=\"god_5\" style=\"padding:10px 20px;\" data-spm=\"sqfive-ad\">\\n        \\n    </div>\\n     <div class=\"pages-fun  \" id=\"pages-fun\"></div>\\n    <div id=\"god_fix_container\" class=\"right-fixed\" style=\"display:none;\">\\n        <div class=\"godR\" id=\"god_fix_1\" data-spm=\"ad-sq6\" style=\"display: block;\">\\n\\n        </div>\\n        <div id=\"god_6_2\" class=\"god-ad-fix\" style=\"display: none; overflow: hidden;\" data-spm=\"ad-sq6\">\\n\\n        </div> \\n    </div>\\n     <div id=\"fixed-view\" data-rel=\"#hot-news\" style=\"z-index:2\">\\n    </div>\\n</div>\\n\\n\\n\\n             </div>\\n            <div id=\"float-btn\" class=\"float-links\"></div>             <div class=\"sohu-khd\" data-role=\"wp-ad\"><a href=\"javascript:void(0)\" class=\"close-khd\"></a><a href=\"https://www.microsoft.com/zh-cn/store/p/%E6%90%9C%E7%8B%90uwp/9nb9229mmbjh\" target=\"_blank\" class=\"download-khd\"><i class=\"icon khd-d-icon\"></i>免费获取</a></div>\\n            <div id=\"pop-news\" class=\"pop-news\"></div>            <div class=\"left-bottom-float\" id=\"left-bottom-god\" data-spm=\"ad-ss\">\\n</div>        </div>\\n            <div id=\"sohu-mod\" class=\"sohu-mod\">\\n  <div class=\"area sohu-frag\">\\n    <div class=\"left sohu-news\">\\n      <div class=\"title\">今日搜狐热点</div>\\n      <div class=\"list\">\\n        <ul>\\n                  </ul>\\n      </div>\\n    </div>\\n    <div class=\"left auto-sohu\">\\n      <div class=\"count-down\"><span>6</span>秒后</div>\\n      <div class=\"go-sohu\"><a href=\"http://www.sohu.com?strategyid=00004\">进入搜狐首页</a></div>\\n      <a href=\"#\" target=\"_blank\" class=\"close-sohu\"></a>\\n    </div>\\n  </div>\\n</div>\\n<div id=\"sohu-remend\" class=\"sohu-remend\">\\n    <div class=\"area sohu-remend-box\">\\n        <div class=\"remend-tt left\">今日推荐</div>\\n        <div class=\"left sohu-pp\">\\n            <ul>\\n                            </ul>\\n        </div>\\n        <div class=\"right sohu-do\">\\n            <a data-clev=\"10220279\" href=\"http://www.sohu.com?strategyid=00004\"><div class=\"go-sohu\">进入搜狐首页</div></a>\\n            <a data-clev=\"10220280\" href=\"//shang.qq.com/wpa/qunwpa?idkey=04e47b9e7004c967962f52532465719ae8a30cf05413c11934ec121fb7e2dd62\" target=\"_blank\" class=\"feedback-link\">意见反馈</a>\\n            <a data-clev=\"10220281\" href=\"javascript:void(0)\" target=\"_blank\" class=\"close-remend\"></a>\\n        </div>\\n    </div>\\n    <div class=\"sohu-remend-layer\"></div>\\n</div>            \\n\\n<script src=\"//statics.itc.cn/web/static/js/lib-61587d9fb8.js\"></script>\\n<script src=\"//statics.itc.cn/pc_channel_script/pc_channel_script/jquery.xdomainrequest.min.js\\n\"></script>\\n<script src=\"//39d0825d09f05.cdn.sohucs.com/sdk/passport-4.0.3.js\"></script>\\n<!--<script src=\"//statics.itc.cn/web/static/js/ie8hack-07e05e83f1.js\"></script>-->\\n<script src=\"//txt.go.sohu.com/ip/soip\"></script>\\n<script src=\"//statics.itc.cn/spm/prod/js/1.0.2/index.js\"></script>\\n<script src=\"//statics.itc.cn/web/static/js/main-c4c08b38cc.js\"></script>\\n<script src=\"//js.sohu.com/pv.js\"></script>\\n            <script>\\ntry{console.log(\"执行成功\")\\n        window.sohu_mp.article({\\n        channel_id: \"25\",\\n        news_id: \"445353566\",\\n        cms_id: \"$mpNews.cmsId\",\\n        media_id: \"737197\",\\n        passport: \"xiaoxuejs100@sohu.com\",\\n        weboUrl: \"https://mp.sohu.com/profile?xpt=eGlhb3h1ZWpzMTAwQHNvaHUuY29t\",\\n        title: \"北师大版五年级数学下册电子课本\",\\n        channel_url:\"//learning.sohu.com\",\\n        categoryId:\"14\",\\n        //abData_fd用于abtest\\n        abData:\"{}\",\\n        abData_fd:\"\",\\n        abData_tw:\"\",\\n        rightNewStyle: \"0\",\\n        originalId:\"$mpNews.originalId\",\\n        originalStatus:\"0\",\\n        hasVoteInfo: \"false\",\\n        isBaiDuAd: \"false\",\\n        isPure: \"${pure}\",\\n        reprint: false,\\n        reprintSign: \"\",\\n        secureScore: \\'100\\',\\n        sGrade: \\'0\\',\\n        mpNewsExt:{\\n            \"modelId\":\"\"\\n        }});\\n}\\ncatch(e){\\n    var html = \\'<div class=\"err-js\">\\' +\\n                \\'<span><em class=\"icon err-js-icon\"></em>JS加载错误，请重新加载。</span>\\' +\\n                \\'<a href=\"javascript:window.location.reload()\" target=\"_blank\" class=\"cached-btn\"\\' +\\n                \\'><em class=\"icon-cached\"></em>刷新</a></div>\\';\\n    $(document.body).prepend(html);\\n    // Raven.captureException(e);\\n    console.error(\"发生错误\",e);\\n}\\n</script>\\n<script>\\n    (function () {\\n        if(window.irs_ua === false) return\\n        var ra = document.createElement(\\'script\\');\\n        ra.type = \\'text/javascript\\';\\n        ra.async = true;\\n        ra.src = \\'//statics.itc.cn/iwtReport/iwt1.0.1.js\\'; //iwt_1.0.1.js的URL位置，请客户自行托管JS文件，修改此值\\n        var s = document.getElementsByTagName(\\'script\\')[0];\\n        s.parentNode.insertBefore(ra, s);\\n    })();    \\n</script>\\n<!--[if lt IE 8]>\\n<script type=\"text/javascript\">\\n(function(){\\n    var ua = navigator.userAgent;\\n    var version;\\n    var html = \\'<div class=\"area clear\">\\' +\\n        \\'<div class=\"ie-low\">\\' +\\n        \\'<p>您的浏览器版本过低<br>为了更好的体验，请升级你的浏览器。</p>\\' +\\n        \\'<h5><a href=\"https://ie.sogou.com\" target=\"_blank\" class=\"upgrade-btn\">马上升级</a></h5>\\' +\\n        \\'</div></div>\\';\\n    if (/MSIE ([^;]+)/.test(ua)) {\\n        version = parseInt(RegExp[\"$1\"]);\\n        if (version<8) {\\n            document.body.innerHTML=html;\\n            var reg = new RegExp(\"(^| )SUV=([^;]*)(;|$)\");\\n            var suvs = unescape(document.cookie.match(reg)[2]); \\n            var spv_server_src = \"http://pv.sohu.com/action.gif?actionId=10078&SUV=\"+suvs;\\n            var scripts = document.createElement(\\'script\\');\\n            scripts.src = spv_server_src;\\n            document.body.appendChild(scripts);   \\n            Raven.captureException(new Error(\\'ie\\'+version));   \\n        }\\n    }\\n})()\\n</script>\\n<![endif]-->\\n<script src=\"//images.sohu.com/bill/default/sohu-require.js\"></script>\\n<script type=\"text/javascript\"> require([\"sjs/matrix/ad/passion\"]);</script>\\n<script type=\"text/javascript\" src=\"//www.sohu.com/sohuflash_1.js\"></script>\\n<script type=\"text/javascript\" src=\"//images.sohu.com/bill/s2015/jscript/lib/sjs/matrix/ad/form/delivery.js\"></script>\\n<script type=\"text/javascript\" src=\"//images.sohu.com/bill/s2015/jscript/lib/sjs/matrix/pv/pagePVmonitor.js\"></script>\\n<!-- <script src=\"//statics.itc.cn/spm/prod/js/1.0.1/index.js\"></script> -->\\n\\n<!-- 文章安全分低于等于10分不执行seo优化 -->\\n<script>\\n    (function(){\\n        var bp = document.createElement(\\'script\\');\\n        var curProtocol = window.location.protocol.split(\\':\\')[0];\\n        if (curProtocol === \\'https\\') {\\n            bp.src = \\'https://zz.bdstatic.com/linksubmit/push.js\\';        \\n        }\\n        else {\\n            bp.src = \\'http://push.zhanzhang.baidu.com/push.js\\';\\n        }\\n        var s = document.getElementsByTagName(\"script\")[0];\\n        s.parentNode.insertBefore(bp, s);\\n    })();\\n</script>\\n<!-- 百度联盟广告，多条广告如下脚本只需引入一次 -->\\n<script type=\"text/javascript\" src=\"https://cpro.baidustatic.com/cpro/ui/c.js\" async=\"async\" defer=\"defer\"></script>\\n        <!-- 头条SEO上报JS -->\\n        <script>\\n            (function(){\\n                var el = document.createElement(\"script\");\\n                el.src = \"https://lf1-cdn-tos.bytegoofy.com/goofy/ttzz/push.js?2a4809d3df819205088b399807ab2dfb6008be35d3aa4b8fc28d959eee7f7b82c112ff4abe50733e0ff1e1071a0fdc024b166ea2a296840a50a5288f35e2ca42\";\\n                el.id = \"ttzz\";\\n                var s = document.getElementsByTagName(\"script\")[0];\\n                s.parentNode.insertBefore(el, s);\\n            })(window)\\n        </script>\\n        <script>\\n            if (window && window.performance && typeof window.performance.now === \\'function\\') {\\n                !window.MptcfePerf ? window.MptcfePerf = { csrfpst: +new Date() } : window.MptcfePerf.csrfpst = +new Date()\\n            }\\n        </script>\\n    </body>\\n</html>'"
      ]
     },
     "execution_count": 11,
     "metadata": {},
     "output_type": "execute_result"
    }
   ],
   "source": [
    "re.text"
   ]
  },
  {
   "cell_type": "code",
   "execution_count": 6,
   "metadata": {},
   "outputs": [],
   "source": [
    "be = BeautifulSoup(re.text,'lxml')"
   ]
  },
  {
   "cell_type": "code",
   "execution_count": 15,
   "metadata": {},
   "outputs": [],
   "source": [
    "#'.ql-align-center > img'\n",
    "urls = be.select('#mp-editor > p > img')"
   ]
  },
  {
   "cell_type": "code",
   "execution_count": 16,
   "metadata": {},
   "outputs": [
    {
     "data": {
      "text/plain": [
       "[<img src=\"https://p5.itc.cn/q_70/images03/20210119/3fb8a8f2c23f4e769145d7f56ab53673.jpeg\" width=\"100%\"/>,\n",
       " <img src=\"https://p9.itc.cn/q_70/images03/20210119/9450be7960b34c9ea5c9ec2acddd2c42.jpeg\" width=\"100%\"/>,\n",
       " <img src=\"https://p4.itc.cn/q_70/images03/20210119/bce376fd4ce54c218b1fcc4e6ba75d7d.jpeg\" width=\"100%\"/>,\n",
       " <img src=\"https://p3.itc.cn/q_70/images03/20210119/7ba60667ff374a10bb54eb9fee0246f1.jpeg\" width=\"100%\"/>,\n",
       " <img src=\"https://p4.itc.cn/q_70/images03/20210119/8fd2c22e2a3949ec8ce2f40022899361.jpeg\" width=\"100%\"/>,\n",
       " <img src=\"https://p9.itc.cn/q_70/images03/20210119/b40a0a0f4db8481ba896c9e384da9765.jpeg\" width=\"100%\"/>,\n",
       " <img src=\"https://p0.itc.cn/q_70/images03/20210119/1878eea4bb4748d2a8c663f79d7fdfaf.jpeg\" width=\"100%\"/>,\n",
       " <img src=\"https://p4.itc.cn/q_70/images03/20210119/31c9b066e8b64a6a85a1f07855077d8e.jpeg\" width=\"100%\"/>,\n",
       " <img src=\"https://p0.itc.cn/q_70/images03/20210119/21373b900b174070b8a2f3ba65e668c4.jpeg\" width=\"100%\"/>,\n",
       " <img src=\"https://p9.itc.cn/q_70/images03/20210119/53eeff96f60844caba7db4ccc9cba946.jpeg\" width=\"100%\"/>,\n",
       " <img src=\"https://p9.itc.cn/q_70/images03/20210119/0c0a4a4f21fc4ed6ab6da3fba1043a7a.jpeg\" width=\"100%\"/>,\n",
       " <img src=\"https://p4.itc.cn/q_70/images03/20210119/4eb784dce7684f3a92401babdcee4570.jpeg\" width=\"100%\"/>,\n",
       " <img src=\"https://p6.itc.cn/q_70/images03/20210119/191c11de98754bb087991ca83800fb48.jpeg\" width=\"100%\"/>,\n",
       " <img src=\"https://p6.itc.cn/q_70/images03/20210119/61e62e3105464e48b74d67737bd469b5.jpeg\" width=\"100%\"/>,\n",
       " <img src=\"https://p7.itc.cn/q_70/images03/20210119/deb8637b007844c4b21a4c05c11a6fcd.jpeg\" width=\"100%\"/>,\n",
       " <img src=\"https://p9.itc.cn/q_70/images03/20210119/26fa3789b4fb4ac696c9cb6cc52ced97.jpeg\" width=\"100%\"/>,\n",
       " <img src=\"https://p3.itc.cn/q_70/images03/20210119/afca2fc4989e4e7097bc23c766811d4f.jpeg\" width=\"100%\"/>,\n",
       " <img src=\"https://p8.itc.cn/q_70/images03/20210119/21c8f0bfed774db98093a7347312fe64.jpeg\" width=\"100%\"/>,\n",
       " <img src=\"https://p6.itc.cn/q_70/images03/20210119/63d71b1a01074d40b442e687aa51f33c.jpeg\" width=\"100%\"/>,\n",
       " <img src=\"https://p0.itc.cn/q_70/images03/20210119/d21c8a3b0af14598bd2d21f0447ffb4b.jpeg\" width=\"100%\"/>,\n",
       " <img src=\"https://p9.itc.cn/q_70/images03/20210119/7c0e5f3e8d2b47da85a3651434af818b.jpeg\" width=\"100%\"/>,\n",
       " <img src=\"https://p3.itc.cn/q_70/images03/20210119/fbf0c03657d84176960cc839a2b19291.jpeg\" width=\"100%\"/>,\n",
       " <img src=\"https://p3.itc.cn/q_70/images03/20210119/f81cab97cb4c4e9894c24c23d416ed45.jpeg\" width=\"100%\"/>,\n",
       " <img src=\"https://p3.itc.cn/q_70/images03/20210119/b603658eeed94e819f7927dd06a19999.jpeg\" width=\"100%\"/>,\n",
       " <img src=\"https://p2.itc.cn/q_70/images03/20210119/a04c919a6b204e52a3201ed8bb46ac35.jpeg\" width=\"100%\"/>,\n",
       " <img src=\"https://p7.itc.cn/q_70/images03/20210119/0304efa3d90745248b846f57e2f3a487.jpeg\" width=\"100%\"/>,\n",
       " <img src=\"https://p5.itc.cn/q_70/images03/20210119/601262dade4445c4bdc4ebf020fbabce.jpeg\" width=\"100%\"/>,\n",
       " <img src=\"https://p6.itc.cn/q_70/images03/20210119/54543fac58fc4c9cbdf79e3d35c083ae.jpeg\" width=\"100%\"/>,\n",
       " <img src=\"https://p7.itc.cn/q_70/images03/20210119/be43f7e4bded4e0e846f0fd5e8febead.jpeg\" width=\"100%\"/>,\n",
       " <img src=\"https://p1.itc.cn/q_70/images03/20210119/6d8a33bd7ee444a499568d98825dec85.jpeg\" width=\"100%\"/>,\n",
       " <img src=\"https://p7.itc.cn/q_70/images03/20210119/3748f447c8c345fbbccf9af32f8da200.jpeg\" width=\"100%\"/>,\n",
       " <img src=\"https://p3.itc.cn/q_70/images03/20210119/56e4f334b1084c10a21625f59736e503.jpeg\" width=\"100%\"/>,\n",
       " <img src=\"https://p7.itc.cn/q_70/images03/20210119/9c932694be4f415895537bb6ff48d747.jpeg\" width=\"100%\"/>,\n",
       " <img src=\"https://p8.itc.cn/q_70/images03/20210119/f824581849cb449abe272f172cf52241.jpeg\" width=\"100%\"/>,\n",
       " <img src=\"https://p5.itc.cn/q_70/images03/20210119/83bc41390ffd44a894b050eda58577cd.jpeg\" width=\"100%\"/>,\n",
       " <img src=\"https://p2.itc.cn/q_70/images03/20210119/fa790bd3947540f9832a78b16ea2cda2.jpeg\" width=\"100%\"/>,\n",
       " <img src=\"https://p5.itc.cn/q_70/images03/20210119/e3df0f77ddb942deb9d72612b8c4d897.jpeg\" width=\"100%\"/>,\n",
       " <img src=\"https://p2.itc.cn/q_70/images03/20210119/99a69adb089f476db3b90d7cd4c30ccc.jpeg\" width=\"100%\"/>,\n",
       " <img src=\"https://p5.itc.cn/q_70/images03/20210119/15ce4d52925c479faac60ed0ab42e43b.jpeg\" width=\"100%\"/>,\n",
       " <img src=\"https://p9.itc.cn/q_70/images03/20210119/0f0e2b2e92a5406b975f4d698918789c.jpeg\" width=\"100%\"/>,\n",
       " <img src=\"https://p7.itc.cn/q_70/images03/20210119/12418451c1f34c0ca512ca990207b8a7.jpeg\" width=\"100%\"/>,\n",
       " <img src=\"https://p7.itc.cn/q_70/images03/20210119/b5ad716afb8947e2b5cd4d1dca4352fb.jpeg\" width=\"100%\"/>,\n",
       " <img src=\"https://p5.itc.cn/q_70/images03/20210119/0ad5a871e48841df86ff615dfcea4f81.jpeg\" width=\"100%\"/>,\n",
       " <img src=\"https://p1.itc.cn/q_70/images03/20210119/da82197da33844949a57b5989073761e.jpeg\" width=\"100%\"/>,\n",
       " <img src=\"https://p6.itc.cn/q_70/images03/20210119/7395df8d2354437fbaf458fba1ffec6a.jpeg\" width=\"100%\"/>,\n",
       " <img src=\"https://p7.itc.cn/q_70/images03/20210119/6e8a2eba6a33442da76af4c2ddc457dd.jpeg\" width=\"100%\"/>,\n",
       " <img src=\"https://p5.itc.cn/q_70/images03/20210119/8b4111331684429cb73af67c669d9c79.jpeg\" width=\"100%\"/>,\n",
       " <img src=\"https://p0.itc.cn/q_70/images03/20210119/30313513de1640b49ba44030c3580291.jpeg\" width=\"100%\"/>,\n",
       " <img src=\"https://p0.itc.cn/q_70/images03/20210119/53dace41ddc24c3aa5f7ce2d5c2d1485.jpeg\" width=\"100%\"/>,\n",
       " <img src=\"https://p6.itc.cn/q_70/images03/20210119/a7d68a9b05ab40f59ca82069d449b2b2.jpeg\" width=\"100%\"/>,\n",
       " <img src=\"https://p2.itc.cn/q_70/images03/20210119/37b0b00af099496fb7a075c9bc561153.jpeg\" width=\"100%\"/>,\n",
       " <img src=\"https://p2.itc.cn/q_70/images03/20210119/17f1da4d464f4ca6ab39c8b972c31c6e.jpeg\" width=\"100%\"/>,\n",
       " <img src=\"https://p0.itc.cn/q_70/images03/20210119/f0050e53252d4636bec3a64c58c98101.jpeg\" width=\"100%\"/>,\n",
       " <img src=\"https://p7.itc.cn/q_70/images03/20210119/cb0fdf80df8f49499bbe9738e6cea078.jpeg\" width=\"100%\"/>,\n",
       " <img src=\"https://p3.itc.cn/q_70/images03/20210119/d4d3f36d26b741b89598b8d54bfe3011.jpeg\" width=\"100%\"/>,\n",
       " <img src=\"https://p2.itc.cn/q_70/images03/20210119/e1d5a03668b84394b1c05f9efd077540.jpeg\" width=\"100%\"/>,\n",
       " <img src=\"https://p3.itc.cn/q_70/images03/20210119/ed1bb315fdb94e7aabf551728c98b878.jpeg\" width=\"100%\"/>,\n",
       " <img src=\"https://p5.itc.cn/q_70/images03/20210119/aa1f9ec411d242bea3c8592cfb575163.jpeg\" width=\"100%\"/>,\n",
       " <img src=\"https://p8.itc.cn/q_70/images03/20210119/28973654b35c4040a938e016dd6e4017.jpeg\" width=\"100%\"/>,\n",
       " <img src=\"https://p5.itc.cn/q_70/images03/20210119/4f47456d88b14a839aad5af7e2a8647c.jpeg\" width=\"100%\"/>,\n",
       " <img src=\"https://p6.itc.cn/q_70/images03/20210119/321b2c8fc1af448b894febd1214ca18a.jpeg\" width=\"100%\"/>,\n",
       " <img src=\"https://p6.itc.cn/q_70/images03/20210119/9c5ccd9137d346ea8ee515b8aed47fab.jpeg\" width=\"100%\"/>,\n",
       " <img src=\"https://p2.itc.cn/q_70/images03/20210119/0262e6df4f274146b44194ee7d205389.jpeg\" width=\"100%\"/>,\n",
       " <img src=\"https://p9.itc.cn/q_70/images03/20210119/ae1c9a82618d4d56bb18011108e14261.jpeg\" width=\"100%\"/>,\n",
       " <img src=\"https://p1.itc.cn/q_70/images03/20210119/74694b906ecc475c9adb789e67a5a765.jpeg\" width=\"100%\"/>,\n",
       " <img src=\"https://p5.itc.cn/q_70/images03/20210119/1e95cb56e5244383854af777b93258e5.jpeg\" width=\"100%\"/>,\n",
       " <img src=\"https://p7.itc.cn/q_70/images03/20210119/53ecb10216374cbeba54a2947a964c60.jpeg\" width=\"100%\"/>,\n",
       " <img src=\"https://p0.itc.cn/q_70/images03/20210119/a167a47c87844cd2bb682d3c11b855af.jpeg\" width=\"100%\"/>,\n",
       " <img src=\"https://p5.itc.cn/q_70/images03/20210119/8cd8be220bd74707ac740bce5a5f63ac.jpeg\" width=\"100%\"/>,\n",
       " <img src=\"https://p8.itc.cn/q_70/images03/20210119/a80d869d77844210b0c7334cb7c06935.jpeg\" width=\"100%\"/>,\n",
       " <img src=\"https://p1.itc.cn/q_70/images03/20210119/eeabde1d4210485189501f4d52f61a38.jpeg\" width=\"100%\"/>,\n",
       " <img src=\"https://p8.itc.cn/q_70/images03/20210119/fc37167e32454a3c8a66a50e03ccfc16.jpeg\" width=\"100%\"/>,\n",
       " <img src=\"https://p8.itc.cn/q_70/images03/20210119/2b1ea3f9927f4f3e9f4c63370373a411.jpeg\" width=\"100%\"/>,\n",
       " <img src=\"https://p2.itc.cn/q_70/images03/20210119/6f783f0130754138b22619bd90365ebb.jpeg\" width=\"100%\"/>,\n",
       " <img src=\"https://p1.itc.cn/q_70/images03/20210119/610cc910caa349afb5ab0537cda935a7.jpeg\" width=\"100%\"/>,\n",
       " <img src=\"https://p0.itc.cn/q_70/images03/20210119/acd49ce749af48f28c3e2378f6e9cbbf.jpeg\" width=\"100%\"/>,\n",
       " <img src=\"https://p0.itc.cn/q_70/images03/20210119/72a7370b65b143b2874b33908aa99cf2.jpeg\" width=\"100%\"/>,\n",
       " <img src=\"https://p8.itc.cn/q_70/images03/20210119/733164fd5e934e34b36d7fedd2feb5d3.jpeg\" width=\"100%\"/>,\n",
       " <img src=\"https://p4.itc.cn/q_70/images03/20210119/7390d250c1124e8fad94f15f0c1a260c.jpeg\" width=\"100%\"/>,\n",
       " <img src=\"https://p6.itc.cn/q_70/images03/20210119/4e692aeed38f434ca395540b7113e125.jpeg\" width=\"100%\"/>,\n",
       " <img src=\"https://p1.itc.cn/q_70/images03/20210119/991fef55f79d4218a3750b3500321391.jpeg\" width=\"100%\"/>,\n",
       " <img src=\"https://p2.itc.cn/q_70/images03/20210119/22e3e384884244c19ce12b0dcfb54970.jpeg\" width=\"100%\"/>,\n",
       " <img src=\"https://p5.itc.cn/q_70/images03/20210119/8052e037e66241fd88d92f902c3f752a.jpeg\" width=\"100%\"/>,\n",
       " <img src=\"https://p3.itc.cn/q_70/images03/20210119/ed77256549fa4e8aafbc489f03a6c4d8.jpeg\" width=\"100%\"/>,\n",
       " <img src=\"https://p4.itc.cn/q_70/images03/20210119/52344f973f9147f080b2fc4a5dc2f8fe.jpeg\" width=\"100%\"/>,\n",
       " <img src=\"https://p8.itc.cn/q_70/images03/20210119/35c17a6531cb4cbeadcfd7b74f4c53a5.jpeg\" width=\"100%\"/>,\n",
       " <img src=\"https://p3.itc.cn/q_70/images03/20210119/bf7d9368bb8c4a2eb8f328116558da02.jpeg\" width=\"100%\"/>,\n",
       " <img src=\"https://p7.itc.cn/q_70/images03/20210119/ab45ce8f4b654fdcb0e618ca8124bd7f.jpeg\" width=\"100%\"/>,\n",
       " <img src=\"https://p5.itc.cn/q_70/images03/20210119/6fdf8b4209d541d6a80d0ca1ac22b554.jpeg\" width=\"100%\"/>,\n",
       " <img src=\"https://p8.itc.cn/q_70/images03/20210119/a1a676d5da5f42e28c5261c2c540a9eb.jpeg\" width=\"100%\"/>,\n",
       " <img src=\"https://p3.itc.cn/q_70/images03/20210119/84d768a272dd4852861467bc62c15c18.jpeg\" width=\"100%\"/>,\n",
       " <img src=\"https://p3.itc.cn/q_70/images03/20210119/e3a3ad18654b461ca5cce00622bcdd94.jpeg\" width=\"100%\"/>,\n",
       " <img src=\"https://p1.itc.cn/q_70/images03/20210119/65be1d832e0d40859ae7983960682b65.jpeg\" width=\"100%\"/>,\n",
       " <img src=\"https://p9.itc.cn/q_70/images03/20210119/3b2d98e4144042e1afda67bcea68c4b1.jpeg\" width=\"100%\"/>,\n",
       " <img src=\"https://p1.itc.cn/q_70/images03/20210119/1d5994985fae4fb8bf10126c5ad12266.jpeg\" width=\"100%\"/>,\n",
       " <img src=\"https://p4.itc.cn/q_70/images03/20210119/770040b5f82b4afba410bba08546459d.jpeg\" width=\"100%\"/>,\n",
       " <img src=\"https://p6.itc.cn/q_70/images03/20210119/0ec300d8149d459bbaf8270f4de26a6c.jpeg\" width=\"100%\"/>,\n",
       " <img src=\"https://p9.itc.cn/q_70/images03/20210119/def863612a33455c8a60b51f24363489.jpeg\" width=\"100%\"/>,\n",
       " <img src=\"https://p3.itc.cn/q_70/images03/20210119/9f036e8f6f934a188d969d56ca80e371.jpeg\" width=\"100%\"/>,\n",
       " <img src=\"https://p3.itc.cn/q_70/images03/20210119/83f369841fec4d2ea990e34976b4199a.jpeg\" width=\"100%\"/>,\n",
       " <img src=\"https://p0.itc.cn/q_70/images03/20210119/0ca150b3a51240b39b0dea0b90a5841e.jpeg\" width=\"100%\"/>,\n",
       " <img src=\"https://p9.itc.cn/q_70/images03/20210119/50a0a75ac6f1426bb312a386d4d68455.jpeg\" width=\"100%\"/>,\n",
       " <img src=\"https://p4.itc.cn/q_70/images03/20210119/c4d00242359a4db087bfdc61616325ba.jpeg\" width=\"100%\"/>,\n",
       " <img src=\"https://p9.itc.cn/q_70/images03/20210119/d120c4a9ae5940dca53e1f13ead785a6.jpeg\" width=\"100%\"/>,\n",
       " <img src=\"https://p8.itc.cn/q_70/images03/20210119/62ea75f1ae014c3f94a9dee772e906ec.jpeg\" width=\"100%\"/>]"
      ]
     },
     "execution_count": 16,
     "metadata": {},
     "output_type": "execute_result"
    }
   ],
   "source": [
    "urls"
   ]
  },
  {
   "cell_type": "code",
   "execution_count": 9,
   "metadata": {},
   "outputs": [],
   "source": [
    "import time"
   ]
  },
  {
   "cell_type": "code",
   "execution_count": 21,
   "metadata": {},
   "outputs": [
    {
     "data": {
      "text/plain": [
       "<img max-width=\"600\" src=\"http://5b0988e595225.cdn.sohucs.com/images/20200220/21d1044166114cdda54ad9f231e04e54.JPG\"/>"
      ]
     },
     "execution_count": 21,
     "metadata": {},
     "output_type": "execute_result"
    }
   ],
   "source": [
    "urls[2],\n",
    "urls[3]"
   ]
  },
  {
   "cell_type": "code",
   "execution_count": 17,
   "metadata": {},
   "outputs": [
    {
     "name": "stdout",
     "output_type": "stream",
     "text": [
      "正在下载第0张图书！\n",
      "正在下载第1张图书！\n",
      "正在下载第2张图书！\n",
      "正在下载第3张图书！\n",
      "正在下载第4张图书！\n",
      "正在下载第5张图书！\n",
      "正在下载第6张图书！\n",
      "正在下载第7张图书！\n",
      "正在下载第8张图书！\n",
      "正在下载第9张图书！\n",
      "正在下载第10张图书！\n",
      "正在下载第11张图书！\n",
      "正在下载第12张图书！\n",
      "正在下载第13张图书！\n",
      "正在下载第14张图书！\n",
      "正在下载第15张图书！\n",
      "正在下载第16张图书！\n",
      "正在下载第17张图书！\n",
      "正在下载第18张图书！\n",
      "正在下载第19张图书！\n",
      "正在下载第20张图书！\n",
      "正在下载第21张图书！\n",
      "正在下载第22张图书！\n",
      "正在下载第23张图书！\n",
      "正在下载第24张图书！\n",
      "正在下载第25张图书！\n",
      "正在下载第26张图书！\n",
      "正在下载第27张图书！\n",
      "正在下载第28张图书！\n",
      "正在下载第29张图书！\n",
      "正在下载第30张图书！\n",
      "正在下载第31张图书！\n",
      "正在下载第32张图书！\n",
      "正在下载第33张图书！\n",
      "正在下载第34张图书！\n",
      "正在下载第35张图书！\n",
      "正在下载第36张图书！\n",
      "正在下载第37张图书！\n",
      "正在下载第38张图书！\n",
      "正在下载第39张图书！\n",
      "正在下载第40张图书！\n",
      "正在下载第41张图书！\n",
      "正在下载第42张图书！\n",
      "正在下载第43张图书！\n",
      "正在下载第44张图书！\n",
      "正在下载第45张图书！\n",
      "正在下载第46张图书！\n",
      "正在下载第47张图书！\n",
      "正在下载第48张图书！\n",
      "正在下载第49张图书！\n",
      "正在下载第50张图书！\n",
      "正在下载第51张图书！\n",
      "正在下载第52张图书！\n",
      "正在下载第53张图书！\n",
      "正在下载第54张图书！\n",
      "正在下载第55张图书！\n",
      "正在下载第56张图书！\n",
      "正在下载第57张图书！\n",
      "正在下载第58张图书！\n",
      "正在下载第59张图书！\n",
      "正在下载第60张图书！\n",
      "正在下载第61张图书！\n",
      "正在下载第62张图书！\n",
      "正在下载第63张图书！\n",
      "正在下载第64张图书！\n",
      "正在下载第65张图书！\n",
      "正在下载第66张图书！\n",
      "正在下载第67张图书！\n",
      "正在下载第68张图书！\n",
      "正在下载第69张图书！\n",
      "正在下载第70张图书！\n",
      "正在下载第71张图书！\n",
      "正在下载第72张图书！\n",
      "正在下载第73张图书！\n",
      "正在下载第74张图书！\n",
      "正在下载第75张图书！\n",
      "正在下载第76张图书！\n",
      "正在下载第77张图书！\n",
      "正在下载第78张图书！\n",
      "正在下载第79张图书！\n",
      "正在下载第80张图书！\n",
      "正在下载第81张图书！\n",
      "正在下载第82张图书！\n",
      "正在下载第83张图书！\n",
      "正在下载第84张图书！\n",
      "正在下载第85张图书！\n",
      "正在下载第86张图书！\n",
      "正在下载第87张图书！\n",
      "正在下载第88张图书！\n",
      "正在下载第89张图书！\n",
      "正在下载第90张图书！\n",
      "正在下载第91张图书！\n",
      "正在下载第92张图书！\n",
      "正在下载第93张图书！\n",
      "正在下载第94张图书！\n",
      "正在下载第95张图书！\n",
      "正在下载第96张图书！\n",
      "正在下载第97张图书！\n",
      "正在下载第98张图书！\n",
      "正在下载第99张图书！\n",
      "正在下载第100张图书！\n",
      "正在下载第101张图书！\n",
      "正在下载第102张图书！\n",
      "正在下载第103张图书！\n",
      "正在下载第104张图书！\n",
      "------------------OK-------------------\n"
     ]
    }
   ],
   "source": [
    "#str(urls.index(url))\n",
    "for page,url in enumerate(urls):\n",
    "    print('正在下载第' + str(urls.index(url)) +\"张图书！\")\n",
    "    re = requests.get(url['src'],headers = he)\n",
    "    if re.status_code == 200:\n",
    "        with open(\"d:/temp/\" + str(page) + \".jfif\",'wb') as fs:\n",
    "            fs.write(re.content)\n",
    "    time.sleep(1)\n",
    "print(\"------------------OK-------------------\")\n"
   ]
  },
  {
   "cell_type": "code",
   "execution_count": null,
   "metadata": {},
   "outputs": [],
   "source": []
  }
 ],
 "metadata": {
  "interpreter": {
   "hash": "7d5c25a0dcd433e9174dbd40cc8162c4c651cca147fa234e40a811528338fdfd"
  },
  "kernelspec": {
   "display_name": "Python 3 (ipykernel)",
   "language": "python",
   "name": "python3"
  },
  "language_info": {
   "codemirror_mode": {
    "name": "ipython",
    "version": 3
   },
   "file_extension": ".py",
   "mimetype": "text/x-python",
   "name": "python",
   "nbconvert_exporter": "python",
   "pygments_lexer": "ipython3",
   "version": "3.9.12"
  }
 },
 "nbformat": 4,
 "nbformat_minor": 2
}
